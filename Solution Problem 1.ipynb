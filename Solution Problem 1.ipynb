{
 "cells": [
  {
   "cell_type": "code",
   "execution_count": 18,
   "metadata": {},
   "outputs": [
    {
     "name": "stdout",
     "output_type": "stream",
     "text": [
      "What is the current year: 2018\n",
      "How old are you: 22\n",
      "What is your name: Kenny\n",
      "Pick a number: 2\n",
      "Kenny, you will be 100 years old in the year 2096.0\n",
      "Kenny, you will be 100 years old in the year 2096.0\n"
     ]
    }
   ],
   "source": [
    "current_year = input (\"What is the current year: \")\n",
    "age = input (\"How old are you: \")\n",
    "name = input (\"What is your name: \")\n",
    "number = input (\"Pick a number: \")\n",
    "def year_100(current_year, age):\n",
    "    diff = (100 - float(age))\n",
    "    year = (float(current_year) + diff)\n",
    "    return year\n",
    "\n",
    "for i in range(int(number)):\n",
    "        print(name + \", you will be 100 years old in the year \" + str(year_100(current_year,age)))"
   ]
  },
  {
   "cell_type": "code",
   "execution_count": null,
   "metadata": {},
   "outputs": [],
   "source": []
  },
  {
   "cell_type": "code",
   "execution_count": null,
   "metadata": {},
   "outputs": [],
   "source": []
  },
  {
   "cell_type": "code",
   "execution_count": null,
   "metadata": {},
   "outputs": [],
   "source": []
  }
 ],
 "metadata": {
  "kernelspec": {
   "display_name": "Python 3",
   "language": "python",
   "name": "python3"
  }
 },
 "nbformat": 4,
 "nbformat_minor": 2
}
