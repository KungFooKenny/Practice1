{
 "cells": [
  {
   "cell_type": "code",
   "execution_count": null,
   "metadata": {},
   "outputs": [],
   "source": [
    "current_year = input (\"What is the current year: \")\n",
    "age = input (\"How old are you: \")\n",
    "name = input (\"What is your name: \")\n",
    "number = input (\"Pick a number: \")\n",
    "\n",
    "if float(age) >= 100:\n",
    "    for i in range(int(number)):\n",
    "        print(\"You are already 100, \" + name + \".\")\n",
    "else:\n",
    "    def year_100(current_year, age):\n",
    "        diff = (100 - float(age))\n",
    "        year = (float(current_year) + diff)\n",
    "        return year\n",
    "    for i in range(int(number)):\n",
    "        print(name + \", you will be 100 years old in the year \" + (str(year_100(current_year,age)) + 1))"
   ]
  },
  {
   "cell_type": "code",
   "execution_count": null,
   "metadata": {},
   "outputs": [],
   "source": []
  },
  {
   "cell_type": "code",
   "execution_count": null,
   "metadata": {},
   "outputs": [],
   "source": []
  }
 ],
 "metadata": {
  "kernelspec": {
   "display_name": "Python 3",
   "language": "python",
   "name": "python3"
  },
  "language_info": {
   "codemirror_mode": {
    "name": "ipython",
    "version": 3
   },
   "file_extension": ".py",
   "mimetype": "text/x-python",
   "name": "python",
   "nbconvert_exporter": "python",
   "pygments_lexer": "ipython3",
   "version": "3.7.0"
  }
 },
 "nbformat": 4,
 "nbformat_minor": 2
}
