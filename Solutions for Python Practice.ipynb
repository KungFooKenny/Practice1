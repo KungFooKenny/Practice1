{
 "cells": [
  {
   "cell_type": "code",
   "execution_count": 39,
   "metadata": {},
   "outputs": [
    {
     "name": "stdout",
     "output_type": "stream",
     "text": [
      "What is your name: Kenny\n",
      "How old are you: 22\n",
      "What is the current year: 2018\n",
      "Have you had your bithday this year (Y/N): N\n",
      "How many times would you like your relults printed: 5\n",
      "Kenny, you will be 100 years old in the year 2095\n",
      "Kenny, you will be 100 years old in the year 2095\n",
      "Kenny, you will be 100 years old in the year 2095\n",
      "Kenny, you will be 100 years old in the year 2095\n",
      "Kenny, you will be 100 years old in the year 2095\n"
     ]
    }
   ],
   "source": [
    "# Exersise 1: Character Input\n",
    "# Create a program that asks the user to enter their name and their age.\n",
    "# Print out a message addressed to them that tells them the year that they \n",
    "# will turn 100 years old.\n",
    "# Extras:\n",
    "# Add on to the previous program by asking the user for another number\n",
    "# and printing out that many copies of the previous message. (Hint: order of operations exists in Python)\n",
    "# Print out that many copies of the previous message on separate lines.\n",
    "# (Hint: the string \"\\n is the same as pressing the ENTER button)\n",
    "\n",
    "name = input(\"What is your name: \")\n",
    "age = input(\"How old are you: \" )\n",
    "current_year = input(\"What is the current year: \")\n",
    "had_birthday = input(\"Have you had your bithday this year (Y/N): \")\n",
    "number = input(\"How many times would you like your relults printed: \")\n",
    "\n",
    "if int(age) >= 100:\n",
    "    for i in range(int(number)):\n",
    "        print(name + \", you are already over 100 years old! Congratulations!\")\n",
    "        break\n",
    "\n",
    "\n",
    "def year_100(age, current_year):\n",
    "    remaining_years_to_100 = 100 - int(age)\n",
    "    year = int(current_year) + remaining_years_to_100\n",
    "    return year\n",
    "\n",
    "if int(age) >= 100:\n",
    "    for i in range(int(number)):\n",
    "        print(name + \", you are already over 100 years old! Congratulations!\")\n",
    "elif had_birthday == \"Y\" or had_birthday == \"y\":\n",
    "    if number == 1:\n",
    "        print((name + \", you will be 100 years old in the year \" + str(year_100(age, current_year))))\n",
    "    else:\n",
    "        for i in range(int(number)):\n",
    "            print (name + \", you will be 100 years old in the year \" + str(year_100(age, current_year)))\n",
    "elif had_birthday == \"N\" or had_birthday == \"n\":\n",
    "    if number == 1:\n",
    "        print ((name + \", you will be 100 years old in the year \" + str(year_100(age, current_year)-1)))\n",
    "    else:\n",
    "        for i in range(int(number)):\n",
    "            print ((name + \", you will be 100 years old in the year \" + str(year_100(age, current_year)-1)))\n",
    "else:\n",
    "    print(\"Please enter 'Y' for YES or 'N' for NO\")\n",
    "    \n",
    "\n"
   ]
  },
  {
   "cell_type": "code",
   "execution_count": 13,
   "metadata": {},
   "outputs": [
    {
     "name": "stdout",
     "output_type": "stream",
     "text": [
      "Pick a number to see weather it is even, or odd, and divisible by 4: 9\n",
      "9 is ODD AND is NOT divisible by 4.\n",
      "Pick a number to represent the NUMERATOR: 100\n",
      "pick a number to represent the DENOMINATOR: 10\n",
      "100 is divisible by 10\n",
      "None\n"
     ]
    }
   ],
   "source": [
    "# Exersise 2\n",
    "# Ask the user for a number. Depending on whether the number is even or odd, print out an appropriate message to the user.\n",
    "# Extras:\n",
    "# If the number is a multiple of 4, print out a different message.\n",
    "# Ask the user for two numbers: one number to check (call it num) and one number to divide by (check).\n",
    "# If check divides evenly into num, tell that to the user. If not, print a different appropriate message.\n",
    "\n",
    "number = input(\"Pick a number to see weather it is even, or odd, and divisible by 4: \")\n",
    "\n",
    "if float(number) % 2 == 0 and float(number) % 4 == 0:\n",
    "    print(number + \" is EVEN AND is divisible by 4..\")\n",
    "elif float(number) % 2 != 0 and float(number) % 4 == 0:\n",
    "    print(number + \" is ODD AND is divisible by $\")\n",
    "elif float(number) % 2 == 0 and float(number) % 4 != 0:\n",
    "    print(number + \" is EVEN AND is NOT divisible by 4.\")\n",
    "else:\n",
    "    print(number + \" is ODD AND is NOT divisible by 4.\")\n",
    "\n",
    "num_1 = input(\"Pick a number to represent the NUMERATOR: \")\n",
    "num_2 = input(\"pick a number to represent the DENOMINATOR: \")\n",
    "\n",
    "def is_divisible(num_1, num_2):\n",
    "    if float(num_1) % float(num_2) == 0:\n",
    "        print(num_1 + \" is divisible by \" + num_2)\n",
    "    else:\n",
    "        print(num_1 + \" is NOT divisible by \" + num_2) \n",
    "print(is_divisible(num_1, num_2))"
   ]
  },
  {
   "cell_type": "code",
   "execution_count": null,
   "metadata": {},
   "outputs": [],
   "source": []
  },
  {
   "cell_type": "code",
   "execution_count": null,
   "metadata": {},
   "outputs": [],
   "source": []
  }
 ],
 "metadata": {
  "celltoolbar": "Raw Cell Format",
  "kernelspec": {
   "display_name": "Python 3",
   "language": "python",
   "name": "python3"
  },
  "language_info": {
   "codemirror_mode": {
    "name": "ipython",
    "version": 3
   },
   "file_extension": ".py",
   "mimetype": "text/x-python",
   "name": "python",
   "nbconvert_exporter": "python",
   "pygments_lexer": "ipython3",
   "version": "3.7.0"
  }
 },
 "nbformat": 4,
 "nbformat_minor": 2
}
